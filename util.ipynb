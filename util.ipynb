{
 "cells": [
  {
   "cell_type": "code",
   "execution_count": 77,
   "metadata": {},
   "outputs": [],
   "source": [
    "ori_lines = open(\"decoder-kaldi-fmt-20210527/test.log\", \"r\").readlines()\n",
    "new_line = open(\"data/wav/result.txt\", \"r\").readlines()\n",
    "new_line2 = open(\"data/wav/full.log\", \"r\").readlines()"
   ]
  },
  {
   "cell_type": "code",
   "execution_count": 78,
   "metadata": {},
   "outputs": [],
   "source": [
    "old_result = {}\n",
    "new_result = {}\n",
    "def GerRestult(lines, name_keep=False):\n",
    "    result = {}\n",
    "    for index in range(len(lines)):\n",
    "        if \"Decoded utterance\" in lines[index]:\n",
    "            parts = lines[index - 1].strip().split()\n",
    "            if name_keep:\n",
    "                name = \"_\".join(parts[0].split(\"_\")[:])\n",
    "            else:\n",
    "                name = \"_\".join(parts[0].split(\"_\")[2:])\n",
    "            result[name] = \" \".join(parts[1:])\n",
    "    return result\n",
    "old_result = GerRestult(ori_lines)\n",
    "def GetResult2(lines):\n",
    "    result = {}\n",
    "    for line in lines:\n",
    "        parts = line.strip().split()\n",
    "        result[parts[0]] = \" \".join(parts[1:])\n",
    "    return result\n",
    "        \n",
    "\n",
    "new_result = GetResult2(new_line)\n",
    "new_result2 = GerRestult(new_line2, True)\n",
    "\n",
    "    "
   ]
  },
  {
   "cell_type": "code",
   "execution_count": 79,
   "metadata": {},
   "outputs": [],
   "source": [
    "def Compare(result1, result2):\n",
    "    if result1.keys() != result2.keys():        \n",
    "        return \"KEY DIFFERENT\"\n",
    "    \n",
    "    for key in result1.keys():\n",
    "        if result1[key] != result2[key]:\n",
    "            print(\"Different %s\"%key)\n",
    "            print(result1[key])\n",
    "            print(result2[key])"
   ]
  },
  {
   "cell_type": "code",
   "execution_count": 80,
   "metadata": {},
   "outputs": [],
   "source": [
    "Compare(old_result, new_result)"
   ]
  },
  {
   "cell_type": "code",
   "execution_count": null,
   "metadata": {},
   "outputs": [],
   "source": []
  }
 ],
 "metadata": {
  "kernelspec": {
   "display_name": "Python 3",
   "language": "python",
   "name": "python3"
  },
  "language_info": {
   "codemirror_mode": {
    "name": "ipython",
    "version": 3
   },
   "file_extension": ".py",
   "mimetype": "text/x-python",
   "name": "python",
   "nbconvert_exporter": "python",
   "pygments_lexer": "ipython3",
   "version": "3.7.3"
  }
 },
 "nbformat": 4,
 "nbformat_minor": 4
}
